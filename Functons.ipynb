{
  "nbformat": 4,
  "nbformat_minor": 0,
  "metadata": {
    "colab": {
      "provenance": []
    },
    "kernelspec": {
      "name": "python3",
      "display_name": "Python 3"
    },
    "language_info": {
      "name": "python"
    }
  },
  "cells": [
    {
      "cell_type": "code",
      "execution_count": null,
      "metadata": {
        "id": "lHFkHw4uZ0cV"
      },
      "outputs": [],
      "source": []
    },
    {
      "cell_type": "markdown",
      "source": [
        "#Functions\n"
      ],
      "metadata": {
        "id": "6ctXtIDYaPMj"
      }
    },
    {
      "cell_type": "markdown",
      "source": [
        "1.What is the difference between a function and method in Python?\n",
        "   -  a function is independent and can be called from anytwhere , while a method is tied to class or object and must be called on that object or within that class.\n",
        "2. second question\n",
        "   -  "
      ],
      "metadata": {
        "id": "sTqZzBPgagU0"
      }
    }
  ]
}